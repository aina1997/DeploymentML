{
 "cells": [
  {
   "cell_type": "markdown",
   "id": "f2270ef9",
   "metadata": {
    "id": "f2270ef9"
   },
   "source": [
    "# 1. Accedir a una API\n",
    "\n",
    "## [Diapositives](https://docs.google.com/presentation/d/1jT1qFawiAYbUV_rrjUOn6V5BBUeXgwcJ0LYG-CV0jeQ/edit?usp=sharing)"
   ]
  },
  {
   "cell_type": "markdown",
   "id": "5d06e487",
   "metadata": {
    "id": "5d06e487"
   },
   "source": [
    "Aqui veurem com accedir a una API Rest i com crear una per nosaltres mateixos"
   ]
  },
  {
   "cell_type": "markdown",
   "id": "1a17c4d8",
   "metadata": {
    "id": "1a17c4d8"
   },
   "source": [
    "## 1.1 Consumir d'una API\n",
    "\n",
    "Primerament haurem de preparar l'entorn:"
   ]
  },
  {
   "cell_type": "code",
   "execution_count": 1,
   "id": "a87c48d2",
   "metadata": {
    "id": "a87c48d2",
    "outputId": "b9406bec-c181-4a38-a8ae-65a0e78738ab"
   },
   "outputs": [
    {
     "name": "stdout",
     "output_type": "stream",
     "text": [
      "Defaulting to user installation because normal site-packages is not writeable\n",
      "Requirement already satisfied: requests in /home/aina/.local/lib/python3.10/site-packages (2.28.1)\n",
      "Requirement already satisfied: urllib3<1.27,>=1.21.1 in /usr/lib/python3/dist-packages (from requests) (1.26.5)\n",
      "Requirement already satisfied: charset-normalizer<3,>=2 in /home/aina/.local/lib/python3.10/site-packages (from requests) (2.1.1)\n",
      "Requirement already satisfied: idna<4,>=2.5 in /usr/lib/python3/dist-packages (from requests) (3.3)\n",
      "Requirement already satisfied: certifi>=2017.4.17 in /usr/lib/python3/dist-packages (from requests) (2020.6.20)\n"
     ]
    }
   ],
   "source": [
    "!python3 -m pip install requests"
   ]
  },
  {
   "cell_type": "markdown",
   "id": "d87a9b32",
   "metadata": {
    "id": "d87a9b32"
   },
   "source": [
    "Una vegada instalat la llibreria, podem fer un import d'aquesta i utilitzar-la. Normalment la response d'un get sol està en format JSON, però això ho dictarà la nostra API.\n",
    "\n",
    "### 1.1.1 Dog Facts"
   ]
  },
  {
   "cell_type": "code",
   "execution_count": 3,
   "id": "ab40c3c5",
   "metadata": {
    "colab": {
     "base_uri": "https://localhost:8080/"
    },
    "id": "ab40c3c5",
    "outputId": "cafe6bdb-cd36-4565-9792-ddd0a93b533b"
   },
   "outputs": [
    {
     "data": {
      "text/plain": [
       "{'facts': ['Highly trainable dog breeds like Golden Retrievers, Labrador Retrievers, German Shepherds and Collies are more kid-friendly than some other breeds.'],\n",
       " 'success': True}"
      ]
     },
     "execution_count": 3,
     "metadata": {},
     "output_type": "execute_result"
    }
   ],
   "source": [
    "import requests # Importem la llibreria\n",
    "\n",
    "api_url = \"https://dog-api.kinduff.com/api/facts\" # Aquesta és l'URL de la nostra API. Endpoint /api/facts\n",
    "\n",
    "response = requests.get(api_url) # Fem un request a la api amb un get\n",
    "response.json() #Obtenim el JSON de la resposta!"
   ]
  },
  {
   "cell_type": "code",
   "execution_count": 5,
   "id": "b1c0eb33",
   "metadata": {
    "id": "b1c0eb33",
    "outputId": "a328c13b-bdaf-42a5-bab7-13c423e25622"
   },
   "outputs": [
    {
     "data": {
      "text/plain": [
       "200"
      ]
     },
     "execution_count": 5,
     "metadata": {},
     "output_type": "execute_result"
    }
   ],
   "source": [
    "response.status_code"
   ]
  },
  {
   "cell_type": "code",
   "execution_count": 6,
   "id": "4a20974b",
   "metadata": {
    "id": "4a20974b",
    "outputId": "b27732fc-0a5c-4924-9d59-ceb6c11b1ca0"
   },
   "outputs": [
    {
     "data": {
      "text/plain": [
       "'application/json;charset=utf-8'"
      ]
     },
     "execution_count": 6,
     "metadata": {},
     "output_type": "execute_result"
    }
   ],
   "source": [
    "response.headers[\"Content-Type\"]"
   ]
  },
  {
   "cell_type": "markdown",
   "id": "00e6c0cf",
   "metadata": {
    "id": "00e6c0cf"
   },
   "source": [
    "## 1.2 HTTP Methods\n",
    "\n",
    "Per poder practicar tots els mètodes HTTP, utilitzarem l'API [jsonplaceholder](https://jsonplaceholder.typicode.com/)\n",
    "\n",
    "### 1.2.1 GET"
   ]
  },
  {
   "cell_type": "code",
   "execution_count": 6,
   "id": "ff9dc55a",
   "metadata": {
    "id": "ff9dc55a",
    "outputId": "a7e209ed-3cd8-4680-9027-2858d3b8e205"
   },
   "outputs": [
    {
     "data": {
      "text/plain": [
       "[{'userId': 1,\n",
       "  'id': 4,\n",
       "  'title': 'eum et est occaecati',\n",
       "  'body': 'ullam et saepe reiciendis voluptatem adipisci\\nsit amet autem assumenda provident rerum culpa\\nquis hic commodi nesciunt rem tenetur doloremque ipsam iure\\nquis sunt voluptatem rerum illo velit'}]"
      ]
     },
     "execution_count": 6,
     "metadata": {},
     "output_type": "execute_result"
    }
   ],
   "source": [
    "import requests\n",
    "\n",
    "api_url = \"https://jsonplaceholder.typicode.com/posts?id=4\"\n",
    "\n",
    "response = requests.get(api_url)\n",
    "response.json()"
   ]
  },
  {
   "cell_type": "markdown",
   "id": "8ea95802",
   "metadata": {
    "id": "8ea95802"
   },
   "source": [
    "### 1.2.2 POST\n",
    "\n",
    "Podem fer un POST amb un objecte Python:"
   ]
  },
  {
   "cell_type": "code",
   "execution_count": 12,
   "id": "955a74a1",
   "metadata": {
    "id": "955a74a1",
    "outputId": "295a1283-5868-48cd-dea9-3360826987e6"
   },
   "outputs": [
    {
     "data": {
      "text/plain": [
       "{'userId': 1, 'title': 'Buy milk', 'completed': False, 'id': 201}"
      ]
     },
     "execution_count": 12,
     "metadata": {},
     "output_type": "execute_result"
    }
   ],
   "source": [
    "api_url = \"https://jsonplaceholder.typicode.com/todos\"\n",
    "todo = {\"userId\": 1, \"title\": \"Buy milk\", \"completed\": False}\n",
    "response = requests.post(api_url, json=todo)\n",
    "response.json()"
   ]
  },
  {
   "cell_type": "code",
   "execution_count": 13,
   "id": "8f4c599a",
   "metadata": {
    "id": "8f4c599a",
    "outputId": "284c0f73-1c4b-46be-b38e-497dfb39dcec"
   },
   "outputs": [
    {
     "data": {
      "text/plain": [
       "201"
      ]
     },
     "execution_count": 13,
     "metadata": {},
     "output_type": "execute_result"
    }
   ],
   "source": [
    "response.status_code"
   ]
  },
  {
   "cell_type": "markdown",
   "id": "5829ef9e",
   "metadata": {
    "id": "5829ef9e"
   },
   "source": [
    "En una API real, una vegada fet el POST, la base de dades s'actualitzaria i podriem accedir a la informació fent un get!"
   ]
  },
  {
   "cell_type": "code",
   "execution_count": 14,
   "id": "b6c1fc54",
   "metadata": {
    "id": "b6c1fc54",
    "outputId": "09cff9bf-c6d9-4cb6-b755-5e0f8b867716"
   },
   "outputs": [
    {
     "data": {
      "text/plain": [
       "{}"
      ]
     },
     "execution_count": 14,
     "metadata": {},
     "output_type": "execute_result"
    }
   ],
   "source": [
    "api_url = \"https://jsonplaceholder.typicode.com/todos/201\"\n",
    "\n",
    "response = requests.get(api_url)\n",
    "response.json()"
   ]
  },
  {
   "cell_type": "markdown",
   "id": "7724501d",
   "metadata": {
    "id": "7724501d"
   },
   "source": [
    "També podem en comptes d'utilitzar un objecte python, utilitzar directament **JSON**, però haurem d'especificar-ho:"
   ]
  },
  {
   "cell_type": "code",
   "execution_count": null,
   "id": "d09933e0",
   "metadata": {
    "id": "d09933e0",
    "outputId": "f1b712ad-280f-4824-feac-89ee8b7ae235"
   },
   "outputs": [
    {
     "data": {
      "text/plain": [
       "{'userId': 1, 'title': 'Buy milk', 'completed': False, 'id': 201}"
      ]
     },
     "execution_count": 32,
     "metadata": {},
     "output_type": "execute_result"
    }
   ],
   "source": [
    "import json\n",
    "\n",
    "api_url = \"https://jsonplaceholder.typicode.com/todos\"\n",
    "todo = {\"userId\": 1, \"title\": \"Buy milk\", \"completed\": False} \n",
    "\n",
    "headers =  {\"Content-Type\":\"application/json\"}\n",
    "response = requests.post(api_url, data=json.dumps(todo), headers=headers)\n",
    "response.json()"
   ]
  },
  {
   "cell_type": "markdown",
   "id": "300ad46a",
   "metadata": {
    "id": "300ad46a"
   },
   "source": [
    "### 1.2.3 PUT\n",
    "\n",
    "Amb aquest mètode podem fer un update de les dades:"
   ]
  },
  {
   "cell_type": "code",
   "execution_count": 8,
   "id": "92055945",
   "metadata": {
    "id": "92055945",
    "outputId": "c164a9fb-d88a-4001-da42-0bc037262b78"
   },
   "outputs": [
    {
     "name": "stdout",
     "output_type": "stream",
     "text": [
      "\n",
      "Resposta a l'id 10 abans de fer el put: \n",
      "{'userId': 1, 'id': 10, 'title': 'illo est ratione doloremque quia maiores aut', 'completed': True}\n",
      "\n",
      "\n",
      "Resposta a l'id 10 després de fer el put: \n",
      "{'userId': 2, 'title': 'Wash car', 'completed': True, 'id': 10}\n",
      "\n",
      "\n",
      "Satatus code \n",
      "200\n"
     ]
    }
   ],
   "source": [
    "api_url = \"https://jsonplaceholder.typicode.com/todos/10\"\n",
    "response = requests.get(api_url)\n",
    "print(\"\\nResposta a l'id 10 abans de fer el put: \")\n",
    "print(response.json())\n",
    "\n",
    "\n",
    "todo = {\"userId\": 2, \"title\": \"Wash car\", \"completed\": True}\n",
    "response = requests.put(api_url, json=todo)\n",
    "print(\"\\n\\nResposta a l'id 10 després de fer el put: \")\n",
    "\n",
    "print(response.json())\n",
    "\n",
    "print(\"\\n\\nSatatus code \")\n",
    "print(response.status_code)"
   ]
  },
  {
   "cell_type": "markdown",
   "id": "db94700b",
   "metadata": {
    "id": "db94700b"
   },
   "source": [
    "### 1.2.4 DELETE\n",
    "\n",
    "Una vegada hem vist els 3 primers CRUD, ens queda el Delete. Existeixen molts mètodes, però aquests són els prinicpals. La resposta és l'estat final de la crida."
   ]
  },
  {
   "cell_type": "code",
   "execution_count": null,
   "id": "6fa521ab",
   "metadata": {
    "id": "6fa521ab",
    "outputId": "30bb8715-4ad5-4bda-cb17-1527ab79ef77"
   },
   "outputs": [
    {
     "data": {
      "text/plain": [
       "{}"
      ]
     },
     "execution_count": 37,
     "metadata": {},
     "output_type": "execute_result"
    }
   ],
   "source": [
    "api_url = \"https://jsonplaceholder.typicode.com/todos/10\"\n",
    "response = requests.delete(api_url)\n",
    "response.json()"
   ]
  },
  {
   "cell_type": "code",
   "execution_count": null,
   "id": "1dc9b2d3",
   "metadata": {
    "id": "1dc9b2d3",
    "outputId": "1fd1818f-359b-4e06-87c4-ecd3fa191e00"
   },
   "outputs": [
    {
     "data": {
      "text/plain": [
       "200"
      ]
     },
     "execution_count": 39,
     "metadata": {},
     "output_type": "execute_result"
    }
   ],
   "source": [
    "response.status_code"
   ]
  },
  {
   "cell_type": "markdown",
   "id": "5690cf76",
   "metadata": {
    "id": "5690cf76"
   },
   "source": [
    "<br>\n",
    "\n",
    "## 1.3 Query params\n",
    "\n",
    "També podem tenir query paramseters com a informació extra a l'hora de fer una crida a la API"
   ]
  },
  {
   "cell_type": "code",
   "execution_count": 9,
   "id": "491c0f04",
   "metadata": {
    "id": "491c0f04",
    "outputId": "9c5ba4af-e2d0-485c-d758-1f07b39fa312"
   },
   "outputs": [
    {
     "name": "stdout",
     "output_type": "stream",
     "text": [
      "\n",
      " Dog’s don’t see in black-and-white, they have 2 color receptors, and can see yellow and blue.\n",
      "\n",
      " Dogs can smell about 1,000 times better than humans. While humans have 5 million smell-detecting cells, dogs have more than 220 million. The part of the brain that interprets smell is also four times larger in dogs than in humans.\n",
      "\n",
      " The earliest European images of dogs are found in cave paintings dating back 12,000 years ago in Spain.\n",
      "\n",
      " The ancient religion Zoroastrianism includes in its religious text titled the Zend Avesta a section devoted to the care and breeding of dogs.\n",
      "\n",
      " Dogs with a flesh colored nose is said to have a \"Dudley Nose.\"\n"
     ]
    }
   ],
   "source": [
    "api_url = \"https://dog-api.kinduff.com/api/facts\" #Volem cridar a https://dog-api.kinduff.com/api/facts?number=5\n",
    "params = {\n",
    "    \"number\": 5\n",
    "}\n",
    "response = requests.get(api_url, params = params)\n",
    "\n",
    "for res in response.json()['facts']:\n",
    "    print(\"\\n \" + res)"
   ]
  },
  {
   "cell_type": "code",
   "execution_count": 16,
   "id": "51adf377",
   "metadata": {},
   "outputs": [
    {
     "name": "stdout",
     "output_type": "stream",
     "text": [
      "\n",
      " Watch that plate of cookies! A Dog’s sense of smell is 10,000 – 100,000 times more acute as that of humans.\n",
      "\n",
      " In ancient Greece, kennels of dogs were kept at the sanctuary of Asclepius at Epidaurus. Dogs were frequently sacrificed there because they were plentiful, inexpensive, and easy to control. During the July 25 celebration of the kunophontis (\"the massacre of dogs\"), dog sacrifices were performed to appease the ancestors of Apollo’s son, Linos, who was devoured by dogs..\n",
      "\n",
      " Baks the blind boxer has a seeing eye goose named Buttons. Buttons the four-year-old goose leads her pup around everywhere either by hanging onto him with her neck, or by honking to tell him which way to go.\n",
      "\n",
      " The oldest known dog bones were found in Asia and date as far back as 10,000 B.C. The first identifiable dog breed appeared about 9000 B.C. and was probably a type of Greyhound dog used for hunting.\n",
      "\n",
      " Even with their poor eyesight, dogs can still see better at night than humans do.\n"
     ]
    }
   ],
   "source": [
    "api_url = \"https://dog-api.kinduff.com/api/facts?number=5\" #Volem cridar a https://dog-api.kinduff.com/api/facts?number=5\n",
    "\n",
    "response = requests.get(api_url)\n",
    "\n",
    "for res in response.json()['facts']:\n",
    "    print(\"\\n \" + res)"
   ]
  },
  {
   "cell_type": "markdown",
   "id": "95ce9a18",
   "metadata": {
    "id": "95ce9a18"
   },
   "source": [
    "<br>\n",
    "<br>\n",
    "<br>\n",
    "<br>\n",
    "<br>\n",
    "<br>\n",
    "\n",
    "# 2. Crear una API\n",
    "\n",
    "Amb Python no només podem accedir a la informació d'una API, també podem crear la nostra pròpia! \n",
    "\n",
    "\n",
    "## 2.1 Creació de la Base de Dades\n",
    "\n",
    "En aquest cas ens inventarem una base de dades en format CSV. \n",
    "\n",
    "En aquest cas tindrem una base de dades d'una gossera. Per una part, tindrem una taula amb els amos dels gossos i per l'altre els gossos. La taula dels amos contindràn una columna amb l'id de cada gos.\n",
    "\n"
   ]
  },
  {
   "cell_type": "code",
   "execution_count": 10,
   "id": "c2f30b0a",
   "metadata": {
    "id": "c2f30b0a",
    "outputId": "8c8c591b-6169-4566-b63c-3d7c637fce6a"
   },
   "outputs": [
    {
     "data": {
      "text/html": [
       "<div>\n",
       "<style scoped>\n",
       "    .dataframe tbody tr th:only-of-type {\n",
       "        vertical-align: middle;\n",
       "    }\n",
       "\n",
       "    .dataframe tbody tr th {\n",
       "        vertical-align: top;\n",
       "    }\n",
       "\n",
       "    .dataframe thead th {\n",
       "        text-align: right;\n",
       "    }\n",
       "</style>\n",
       "<table border=\"1\" class=\"dataframe\">\n",
       "  <thead>\n",
       "    <tr style=\"text-align: right;\">\n",
       "      <th></th>\n",
       "      <th>id_gos</th>\n",
       "      <th>nom</th>\n",
       "      <th>edat</th>\n",
       "    </tr>\n",
       "  </thead>\n",
       "  <tbody>\n",
       "    <tr>\n",
       "      <th>0</th>\n",
       "      <td>101</td>\n",
       "      <td>Pitufina</td>\n",
       "      <td>8</td>\n",
       "    </tr>\n",
       "    <tr>\n",
       "      <th>1</th>\n",
       "      <td>102</td>\n",
       "      <td>Rex</td>\n",
       "      <td>10</td>\n",
       "    </tr>\n",
       "    <tr>\n",
       "      <th>2</th>\n",
       "      <td>103</td>\n",
       "      <td>Lolo</td>\n",
       "      <td>5</td>\n",
       "    </tr>\n",
       "    <tr>\n",
       "      <th>3</th>\n",
       "      <td>104</td>\n",
       "      <td>Coco</td>\n",
       "      <td>2</td>\n",
       "    </tr>\n",
       "    <tr>\n",
       "      <th>4</th>\n",
       "      <td>105</td>\n",
       "      <td>Nina</td>\n",
       "      <td>12</td>\n",
       "    </tr>\n",
       "    <tr>\n",
       "      <th>5</th>\n",
       "      <td>106</td>\n",
       "      <td>Milka</td>\n",
       "      <td>8</td>\n",
       "    </tr>\n",
       "  </tbody>\n",
       "</table>\n",
       "</div>"
      ],
      "text/plain": [
       "   id_gos       nom  edat\n",
       "0     101  Pitufina     8\n",
       "1     102       Rex    10\n",
       "2     103      Lolo     5\n",
       "3     104      Coco     2\n",
       "4     105      Nina    12\n",
       "5     106     Milka     8"
      ]
     },
     "execution_count": 10,
     "metadata": {},
     "output_type": "execute_result"
    }
   ],
   "source": [
    "import pandas as pd\n",
    "\n",
    "gossos = {'id_gos': [101, 102, 103, 104, 105, 106], 'nom':['Pitufina', 'Rex', 'Lolo', 'Coco', 'Nina', 'Milka'], \n",
    "          \"edat\": [8,10,5,2,12,8]}\n",
    "df_gossos = pd.DataFrame(data=gossos)\n",
    "df_gossos"
   ]
  },
  {
   "cell_type": "code",
   "execution_count": 11,
   "id": "2331bbaa",
   "metadata": {
    "id": "2331bbaa",
    "outputId": "bf08f005-72ea-42ec-ccfb-c89e0a228a20"
   },
   "outputs": [
    {
     "data": {
      "text/html": [
       "<div>\n",
       "<style scoped>\n",
       "    .dataframe tbody tr th:only-of-type {\n",
       "        vertical-align: middle;\n",
       "    }\n",
       "\n",
       "    .dataframe tbody tr th {\n",
       "        vertical-align: top;\n",
       "    }\n",
       "\n",
       "    .dataframe thead th {\n",
       "        text-align: right;\n",
       "    }\n",
       "</style>\n",
       "<table border=\"1\" class=\"dataframe\">\n",
       "  <thead>\n",
       "    <tr style=\"text-align: right;\">\n",
       "      <th></th>\n",
       "      <th>id</th>\n",
       "      <th>Nom</th>\n",
       "      <th>Gossos</th>\n",
       "    </tr>\n",
       "  </thead>\n",
       "  <tbody>\n",
       "    <tr>\n",
       "      <th>0</th>\n",
       "      <td>1</td>\n",
       "      <td>Aina</td>\n",
       "      <td>[101, 105]</td>\n",
       "    </tr>\n",
       "    <tr>\n",
       "      <th>1</th>\n",
       "      <td>2</td>\n",
       "      <td>Dani</td>\n",
       "      <td>[102]</td>\n",
       "    </tr>\n",
       "    <tr>\n",
       "      <th>2</th>\n",
       "      <td>3</td>\n",
       "      <td>Laia</td>\n",
       "      <td>[104]</td>\n",
       "    </tr>\n",
       "    <tr>\n",
       "      <th>3</th>\n",
       "      <td>4</td>\n",
       "      <td>Bego</td>\n",
       "      <td>[103]</td>\n",
       "    </tr>\n",
       "  </tbody>\n",
       "</table>\n",
       "</div>"
      ],
      "text/plain": [
       "   id   Nom      Gossos\n",
       "0   1  Aina  [101, 105]\n",
       "1   2  Dani       [102]\n",
       "2   3  Laia       [104]\n",
       "3   4  Bego       [103]"
      ]
     },
     "execution_count": 11,
     "metadata": {},
     "output_type": "execute_result"
    }
   ],
   "source": [
    "amos = {'id': [1, 2 ,3 ,4], 'Nom': ['Aina', 'Dani', 'Laia', 'Bego'], 'Gossos': [[101, 105], [102], [104], [103]]}\n",
    "df_amos = pd.DataFrame(data=amos)\n",
    "df_amos"
   ]
  },
  {
   "cell_type": "code",
   "execution_count": 12,
   "id": "cc9e992b",
   "metadata": {
    "id": "cc9e992b"
   },
   "outputs": [],
   "source": [
    "import os  \n",
    "\n",
    "os.makedirs('./data', exist_ok=True)  \n",
    "df_gossos.to_csv('./data/gossos.csv', index=False)  \n",
    "\n",
    "os.makedirs('./data', exist_ok=True)  \n",
    "df_amos.to_csv('./data/amos.csv', index=False) "
   ]
  },
  {
   "cell_type": "code",
   "execution_count": 13,
   "id": "d7b07f51",
   "metadata": {
    "id": "d7b07f51",
    "outputId": "01c75f8b-ee0b-44d7-a53a-d92e686e717c"
   },
   "outputs": [
    {
     "name": "stdout",
     "output_type": "stream",
     "text": [
      "amos.csv  gossos.csv\r\n"
     ]
    }
   ],
   "source": [
    "!ls data"
   ]
  },
  {
   "cell_type": "markdown",
   "id": "b22c5174",
   "metadata": {
    "id": "b22c5174"
   },
   "source": [
    "## 2.2 Inicialitzar l'API\n",
    "\n",
    "En aquest cas, utilitzarem la llibreria Flask. Hi ha diferents llibreries per crear APIs."
   ]
  },
  {
   "cell_type": "code",
   "execution_count": 14,
   "id": "4cd7e13a",
   "metadata": {
    "id": "4cd7e13a"
   },
   "outputs": [],
   "source": [
    "from flask import Flask\n",
    "from flask_restful import Resource, Api, reqparse\n",
    "import pandas as pd\n",
    "import ast\n",
    "\n",
    "\n",
    "app = Flask(__name__)\n",
    "api = Api(app)"
   ]
  },
  {
   "cell_type": "code",
   "execution_count": 25,
   "id": "8443579b",
   "metadata": {},
   "outputs": [
    {
     "name": "stdout",
     "output_type": "stream",
     "text": [
      "Defaulting to user installation because normal site-packages is not writeable\n",
      "Collecting flask_restful\n",
      "  Downloading Flask_RESTful-0.3.9-py2.py3-none-any.whl (25 kB)\n",
      "Requirement already satisfied: Flask>=0.8 in /home/aina/.local/lib/python3.10/site-packages (from flask_restful) (2.1.2)\n",
      "Requirement already satisfied: pytz in /usr/lib/python3/dist-packages (from flask_restful) (2022.1)\n",
      "Collecting aniso8601>=0.82\n",
      "  Downloading aniso8601-9.0.1-py2.py3-none-any.whl (52 kB)\n",
      "\u001b[2K     \u001b[38;2;114;156;31m━━━━━━━━━━━━━━━━━━━━━━━━━━━━━━━━━━━━━━━━\u001b[0m \u001b[32m52.8/52.8 KB\u001b[0m \u001b[31m1.1 MB/s\u001b[0m eta \u001b[36m0:00:00\u001b[0m[31m1.2 MB/s\u001b[0m eta \u001b[36m0:00:01\u001b[0m\n",
      "\u001b[?25hRequirement already satisfied: six>=1.3.0 in /usr/lib/python3/dist-packages (from flask_restful) (1.16.0)\n",
      "Requirement already satisfied: itsdangerous>=2.0 in /home/aina/.local/lib/python3.10/site-packages (from Flask>=0.8->flask_restful) (2.1.2)\n",
      "Requirement already satisfied: Jinja2>=3.0 in /home/aina/.local/lib/python3.10/site-packages (from Flask>=0.8->flask_restful) (3.1.2)\n",
      "Requirement already satisfied: click>=8.0 in /usr/lib/python3/dist-packages (from Flask>=0.8->flask_restful) (8.0.3)\n",
      "Requirement already satisfied: Werkzeug>=2.0 in /home/aina/.local/lib/python3.10/site-packages (from Flask>=0.8->flask_restful) (2.1.2)\n",
      "Requirement already satisfied: MarkupSafe>=2.0 in /home/aina/.local/lib/python3.10/site-packages (from Jinja2>=3.0->Flask>=0.8->flask_restful) (2.1.1)\n",
      "Installing collected packages: aniso8601, flask_restful\n",
      "Successfully installed aniso8601-9.0.1 flask_restful-0.3.9\n"
     ]
    }
   ],
   "source": [
    "!pip install flask_restful"
   ]
  },
  {
   "cell_type": "markdown",
   "id": "1d587ea5",
   "metadata": {
    "id": "1d587ea5"
   },
   "source": [
    "## 2.3 EndPoints i els primers GETs\n",
    "\n",
    "Una vegada inicialitzada, ja podem començar a construïr l'API. Començarem definint els endpoints:"
   ]
  },
  {
   "cell_type": "code",
   "execution_count": 15,
   "id": "94868134",
   "metadata": {
    "id": "94868134"
   },
   "outputs": [],
   "source": [
    "class Gossos(Resource):\n",
    "    def get(self):\n",
    "        data = pd.read_csv('./data/gossos.csv')  # read CSV\n",
    "        data = data.to_dict()  # convert dataframe to dictionary\n",
    "        return {'data': data}, 200  # return data and 200 OK code\n",
    "    \n",
    "class Amos(Resource):\n",
    "    def get(self):\n",
    "        data = pd.read_csv('./data/amos.csv')  # read CSV\n",
    "        data = data.to_dict()  # convert dataframe to dictionary\n",
    "        return {'data': data}, 200  # return data and 200 OK code"
   ]
  },
  {
   "cell_type": "markdown",
   "id": "d8a01eb8",
   "metadata": {
    "id": "d8a01eb8"
   },
   "source": [
    "Només podem fer un add_recource una vegada"
   ]
  },
  {
   "cell_type": "code",
   "execution_count": 16,
   "id": "830f0919",
   "metadata": {
    "id": "830f0919"
   },
   "outputs": [],
   "source": [
    "api.add_resource(Gossos, '/gossos')  # '/gossos' és el nostre punt d'entrada per els Gossos\n",
    "api.add_resource(Amos, '/amos')  # '/amos' és el nostre punt d'entrada per els Amos"
   ]
  },
  {
   "cell_type": "markdown",
   "id": "b8926f77",
   "metadata": {
    "id": "b8926f77"
   },
   "source": [
    "## 2.4 Inicialitzar l'API"
   ]
  },
  {
   "cell_type": "code",
   "execution_count": 17,
   "id": "6e306545",
   "metadata": {
    "id": "6e306545",
    "outputId": "b52eb64d-88da-4114-d53a-30fd02b1af4c"
   },
   "outputs": [
    {
     "name": "stdout",
     "output_type": "stream",
     "text": [
      " * Serving Flask app '__main__' (lazy loading)\n",
      " * Environment: production\n",
      "\u001b[31m   WARNING: This is a development server. Do not use it in a production deployment.\u001b[0m\n",
      "\u001b[2m   Use a production WSGI server instead.\u001b[0m\n",
      " * Debug mode: off\n"
     ]
    },
    {
     "name": "stderr",
     "output_type": "stream",
     "text": [
      " * Running on http://127.0.0.1:5000 (Press CTRL+C to quit)\n",
      "127.0.0.1 - - [20/Dec/2022 12:03:18] \"GET / HTTP/1.1\" 404 -\n",
      "127.0.0.1 - - [20/Dec/2022 12:03:24] \"GET /gossos HTTP/1.1\" 200 -\n",
      "127.0.0.1 - - [20/Dec/2022 12:04:40] \"GET /gossos HTTP/1.1\" 200 -\n",
      "127.0.0.1 - - [20/Dec/2022 12:13:13] \"GET /amos HTTP/1.1\" 200 -\n"
     ]
    }
   ],
   "source": [
    "if __name__ == '__main__':\n",
    "    app.run()  # run our Flask app"
   ]
  },
  {
   "cell_type": "markdown",
   "id": "6c69c9a5",
   "metadata": {
    "id": "6c69c9a5"
   },
   "source": [
    "## 2.5 POST\n",
    "\n",
    "Aqui volem crear un gos nou a la base de dades. Demanarem l'any de neixament, el nom i un id. Les dades les passarem a través dels paràmetres"
   ]
  },
  {
   "cell_type": "code",
   "execution_count": 8,
   "id": "d0bef223",
   "metadata": {
    "id": "d0bef223",
    "outputId": "09ff6ca0-50d4-4b4c-c950-62953002708d"
   },
   "outputs": [
    {
     "name": "stdout",
     "output_type": "stream",
     "text": [
      " * Serving Flask app '__main__' (lazy loading)\n",
      " * Environment: production\n",
      "\u001b[31m   WARNING: This is a development server. Do not use it in a production deployment.\u001b[0m\n",
      "\u001b[2m   Use a production WSGI server instead.\u001b[0m\n",
      " * Debug mode: off\n"
     ]
    },
    {
     "name": "stderr",
     "output_type": "stream",
     "text": [
      " * Running on http://127.0.0.1:5000 (Press CTRL+C to quit)\n"
     ]
    }
   ],
   "source": [
    "from flask import Flask\n",
    "from flask_restful import Resource, Api, reqparse\n",
    "import pandas as pd\n",
    "import ast\n",
    "\n",
    "## INIT THE APP\n",
    "\n",
    "app = Flask(__name__)\n",
    "api = Api(app)\n",
    "\n",
    "\n",
    "## DEFINE CLASS\n",
    "\n",
    "class Gossos(Resource):\n",
    "    \n",
    "    def get(self):\n",
    "        data = pd.read_csv('./data/gossos.csv')  # read CSV\n",
    "        data = data.to_dict()  # convert dataframe to dictionary\n",
    "        return {'data': data}, 200  # return data and 200 OK code\n",
    "    \n",
    "    def post(self):\n",
    "        parser = reqparse.RequestParser()  # initialize\n",
    "        \n",
    "        parser.add_argument('id', required=True, location='args')  # add args\n",
    "        parser.add_argument('nom', required=True, location='args')\n",
    "        parser.add_argument('edat', required=True, location='args')\n",
    "        \n",
    "        args = parser.parse_args()  # parse arguments to dictionary\n",
    "        \n",
    "        \n",
    "        # create new dataframe containing new values\n",
    "        new_data = pd.DataFrame({\n",
    "            'id_gos': int(args['id']),\n",
    "            'nom': args['nom'],\n",
    "            'edat': int(args['edat'])\n",
    "        }, index=[0])\n",
    "        \n",
    "        # read our CSV\n",
    "        data = pd.read_csv('./data/gossos.csv')\n",
    "        # add the newly provided values\n",
    "        data = data.append(new_data, ignore_index=True)\n",
    "        # save back to CSV\n",
    "        data.to_csv('./data/gossos.csv', index=False)\n",
    "        \n",
    "        return {'data': data.to_dict()}, 200  # return data with 200 OK\n",
    "    \n",
    "    \n",
    "    \n",
    "class Amos(Resource):\n",
    "    \n",
    "    def get(self):\n",
    "        data = pd.read_csv('./data/amos.csv')  # read CSV\n",
    "        data = data.to_dict()  # convert dataframe to dictionary\n",
    "        return {'data': data}, 200  # return data and 200 OK code\n",
    " \n",
    " ## Add Resource\n",
    "\n",
    "api.add_resource(Gossos, '/gossos')  # '/gossos' és el nostre punt d'entrada per els Gossos\n",
    "api.add_resource(Amos, '/amos')  # '/amos' és el nostre punt d'entrada per els Amos\n",
    "    \n",
    "## Init App\n",
    "    \n",
    "if __name__ == '__main__':\n",
    "    app.run()  # run our Flask app\n",
    "    "
   ]
  },
  {
   "cell_type": "markdown",
   "id": "8716889d",
   "metadata": {
    "id": "8716889d"
   },
   "source": [
    "**POSTMAN** POST amb http://127.0.0.1:5000/gossos?id=101&nom=Sol&edat=0 ens retornarà tots els gossos més el nou"
   ]
  },
  {
   "cell_type": "markdown",
   "id": "abb7b692",
   "metadata": {
    "id": "abb7b692"
   },
   "source": [
    "### 2.5.1 Incloure Errors\n",
    "\n",
    "Hem de controlar la informació que afegim a la base de dades, per tant hem de comprovar que per exemple, no existeixin dos gossos amb el mateix ID!"
   ]
  },
  {
   "cell_type": "code",
   "execution_count": 10,
   "id": "4c6a6c6f",
   "metadata": {
    "id": "4c6a6c6f",
    "outputId": "e336d019-3cf7-4d8e-aecc-e88986609d82"
   },
   "outputs": [
    {
     "name": "stdout",
     "output_type": "stream",
     "text": [
      " * Serving Flask app '__main__' (lazy loading)\n",
      " * Environment: production\n",
      "\u001b[31m   WARNING: This is a development server. Do not use it in a production deployment.\u001b[0m\n",
      "\u001b[2m   Use a production WSGI server instead.\u001b[0m\n",
      " * Debug mode: off\n"
     ]
    },
    {
     "name": "stderr",
     "output_type": "stream",
     "text": [
      " * Running on http://127.0.0.1:5000 (Press CTRL+C to quit)\n",
      "127.0.0.1 - - [20/Dec/2022 12:34:09] \"POST /gossos?id=101&nom=Sol&edat=0 HTTP/1.1\" 401 -\n",
      "/tmp/ipykernel_775918/2557748892.py:47: FutureWarning: The frame.append method is deprecated and will be removed from pandas in a future version. Use pandas.concat instead.\n",
      "  data = data.append(new_data, ignore_index=True)\n",
      "127.0.0.1 - - [20/Dec/2022 12:34:54] \"POST /gossos?id=107&nom=Yade&edat=4 HTTP/1.1\" 200 -\n"
     ]
    }
   ],
   "source": [
    "from flask import Flask\n",
    "from flask_restful import Resource, Api, reqparse\n",
    "import pandas as pd\n",
    "import ast\n",
    "\n",
    "\n",
    "## INIT THE APP\n",
    "\n",
    "app = Flask(__name__)\n",
    "api = Api(app)\n",
    "\n",
    "\n",
    "## DEFINE CLASS\n",
    "\n",
    "class Gossos(Resource):\n",
    "    \n",
    "    def get(self):\n",
    "        data = pd.read_csv('./data/gossos.csv')  # read CSV\n",
    "        data = data.to_dict()  # convert dataframe to dictionary\n",
    "        return {'data': data}, 200  # return data and 200 OK code\n",
    "    \n",
    "    def post(self):\n",
    "        parser = reqparse.RequestParser()  # initialize\n",
    "        \n",
    "        parser.add_argument('id', required=True, location='args')  # add args\n",
    "        parser.add_argument('nom', required=True, location='args')\n",
    "        parser.add_argument('edat', required=True, location='args')\n",
    "        \n",
    "        args = parser.parse_args()  # parse arguments to dictionary\n",
    "        \n",
    "        \n",
    "        # read our CSV\n",
    "        data = pd.read_csv('./data/gossos.csv')\n",
    "        \n",
    "        if int(args['id']) in list(data['id_gos']):\n",
    "            return {\n",
    "                'message': f\"'{args['id']}' already exists.\"\n",
    "            }, 401\n",
    "        else:\n",
    "            # create new dataframe containing new values\n",
    "            new_data = pd.DataFrame({\n",
    "                'id_gos': int(args['id']),\n",
    "                'nom': args['nom'],\n",
    "                'edat': int(args['edat'])\n",
    "            }, index=[0])\n",
    "            # add the newly provided values\n",
    "            data = data.append(new_data, ignore_index=True)\n",
    "            # save back to CSV\n",
    "            data.to_csv('./data/gossos.csv', index=False)\n",
    "\n",
    "            return {'data': data.to_dict()}, 200  # return data with 200 OK\n",
    "    \n",
    "    \n",
    "    \n",
    "class Amos(Resource):\n",
    "    \n",
    "    def get(self):\n",
    "        data = pd.read_csv('./data/amos.csv')  # read CSV\n",
    "        data = data.to_dict()  # convert dataframe to dictionary\n",
    "        return {'data': data}, 200  # return data and 200 OK code\n",
    " \n",
    " ## Add Resource\n",
    "\n",
    "api.add_resource(Gossos, '/gossos')  # '/gossos' és el nostre punt d'entrada per els Gossos\n",
    "api.add_resource(Amos, '/amos')  # '/amos' és el nostre punt d'entrada per els Amos\n",
    "    \n",
    "## Init App\n",
    "    \n",
    "if __name__ == '__main__':\n",
    "    app.run()  # run our Flask app\n",
    "    "
   ]
  },
  {
   "cell_type": "markdown",
   "id": "2b60f130",
   "metadata": {
    "id": "2b60f130"
   },
   "source": [
    "**POSTMAN** POST amb \"http://127.0.0.1:5000/gossos?id=101&nom=Sol&edat=0\" ens donarà error\n",
    "\n",
    "<br><br>\n",
    "\n",
    "Actualment tenim aquesta base de dades:"
   ]
  },
  {
   "cell_type": "code",
   "execution_count": 11,
   "id": "27f76e22",
   "metadata": {
    "id": "27f76e22",
    "outputId": "79b69718-9f0b-4527-99ea-ea9a9156ed48"
   },
   "outputs": [
    {
     "data": {
      "text/html": [
       "<div>\n",
       "<style scoped>\n",
       "    .dataframe tbody tr th:only-of-type {\n",
       "        vertical-align: middle;\n",
       "    }\n",
       "\n",
       "    .dataframe tbody tr th {\n",
       "        vertical-align: top;\n",
       "    }\n",
       "\n",
       "    .dataframe thead th {\n",
       "        text-align: right;\n",
       "    }\n",
       "</style>\n",
       "<table border=\"1\" class=\"dataframe\">\n",
       "  <thead>\n",
       "    <tr style=\"text-align: right;\">\n",
       "      <th></th>\n",
       "      <th>id_gos</th>\n",
       "      <th>nom</th>\n",
       "      <th>edat</th>\n",
       "    </tr>\n",
       "  </thead>\n",
       "  <tbody>\n",
       "    <tr>\n",
       "      <th>0</th>\n",
       "      <td>101</td>\n",
       "      <td>Pitufina</td>\n",
       "      <td>8</td>\n",
       "    </tr>\n",
       "    <tr>\n",
       "      <th>1</th>\n",
       "      <td>102</td>\n",
       "      <td>Rex</td>\n",
       "      <td>10</td>\n",
       "    </tr>\n",
       "    <tr>\n",
       "      <th>2</th>\n",
       "      <td>103</td>\n",
       "      <td>Lolo</td>\n",
       "      <td>5</td>\n",
       "    </tr>\n",
       "    <tr>\n",
       "      <th>3</th>\n",
       "      <td>104</td>\n",
       "      <td>Coco</td>\n",
       "      <td>2</td>\n",
       "    </tr>\n",
       "    <tr>\n",
       "      <th>4</th>\n",
       "      <td>105</td>\n",
       "      <td>Nina</td>\n",
       "      <td>12</td>\n",
       "    </tr>\n",
       "    <tr>\n",
       "      <th>5</th>\n",
       "      <td>106</td>\n",
       "      <td>Milka</td>\n",
       "      <td>8</td>\n",
       "    </tr>\n",
       "    <tr>\n",
       "      <th>6</th>\n",
       "      <td>101</td>\n",
       "      <td>Sol</td>\n",
       "      <td>0</td>\n",
       "    </tr>\n",
       "    <tr>\n",
       "      <th>7</th>\n",
       "      <td>107</td>\n",
       "      <td>Yade</td>\n",
       "      <td>4</td>\n",
       "    </tr>\n",
       "  </tbody>\n",
       "</table>\n",
       "</div>"
      ],
      "text/plain": [
       "   id_gos       nom  edat\n",
       "0     101  Pitufina     8\n",
       "1     102       Rex    10\n",
       "2     103      Lolo     5\n",
       "3     104      Coco     2\n",
       "4     105      Nina    12\n",
       "5     106     Milka     8\n",
       "6     101       Sol     0\n",
       "7     107      Yade     4"
      ]
     },
     "execution_count": 11,
     "metadata": {},
     "output_type": "execute_result"
    }
   ],
   "source": [
    "import pandas as pd\n",
    "\n",
    "df_gossos = pd.read_csv('data/gossos.csv')\n",
    "df_gossos"
   ]
  },
  {
   "cell_type": "markdown",
   "id": "3176ed39",
   "metadata": {
    "id": "3176ed39"
   },
   "source": [
    "## 2.6 PUT\n",
    "\n",
    "Semblant al POST, hem de seleccionar quin element és el que volem escollir per fer l'update, en aquest cas la Bego s'ha animat a adoptar un altre gos que ha entrat a la cossera, així que haurem d'actualitzar la seva fixa!"
   ]
  },
  {
   "cell_type": "code",
   "execution_count": 12,
   "id": "cbc9f157",
   "metadata": {
    "id": "cbc9f157",
    "outputId": "f2916fa7-0b48-47fa-d6b2-d720f7e8ebb7"
   },
   "outputs": [
    {
     "name": "stdout",
     "output_type": "stream",
     "text": [
      " * Serving Flask app '__main__' (lazy loading)\n",
      " * Environment: production\n",
      "\u001b[31m   WARNING: This is a development server. Do not use it in a production deployment.\u001b[0m\n",
      "\u001b[2m   Use a production WSGI server instead.\u001b[0m\n",
      " * Debug mode: off\n"
     ]
    },
    {
     "name": "stderr",
     "output_type": "stream",
     "text": [
      " * Running on http://127.0.0.1:5000 (Press CTRL+C to quit)\n",
      "127.0.0.1 - - [20/Dec/2022 12:40:37] \"GET /amos HTTP/1.1\" 200 -\n",
      "/tmp/ipykernel_775918/733742054.py:82: SettingWithCopyWarning: \n",
      "A value is trying to be set on a copy of a slice from a DataFrame.\n",
      "Try using .loc[row_indexer,col_indexer] = value instead\n",
      "\n",
      "See the caveats in the documentation: https://pandas.pydata.org/pandas-docs/stable/user_guide/indexing.html#returning-a-view-versus-a-copy\n",
      "  owner_data['Gossos'] = owner_data['Gossos'].values[0] \\\n",
      "127.0.0.1 - - [20/Dec/2022 12:41:10] \"PUT /amos?id=4&id_gos=107 HTTP/1.1\" 200 -\n",
      "127.0.0.1 - - [20/Dec/2022 12:42:02] \"GET /amos?id=4&id_gos=107 HTTP/1.1\" 200 -\n"
     ]
    }
   ],
   "source": [
    "from flask import Flask\n",
    "from flask_restful import Resource, Api, reqparse\n",
    "import pandas as pd\n",
    "import ast\n",
    "\n",
    "\n",
    "## INIT THE APP\n",
    "\n",
    "app = Flask(__name__)\n",
    "api = Api(app)\n",
    "\n",
    "\n",
    "## DEFINE CLASS\n",
    "\n",
    "class Gossos(Resource):\n",
    "    \n",
    "    def get(self):\n",
    "        data = pd.read_csv('./data/gossos.csv')  # read CSV\n",
    "        data = data.to_dict()  # convert dataframe to dictionary\n",
    "        return {'data': data}, 200  # return data and 200 OK code\n",
    "    \n",
    "    def post(self):\n",
    "        parser = reqparse.RequestParser()  # initialize\n",
    "        \n",
    "        parser.add_argument('id', required=True, location='args')  # add args\n",
    "        parser.add_argument('nom', required=True, location='args')\n",
    "        parser.add_argument('edat', required=True, location='args')\n",
    "        \n",
    "        args = parser.parse_args()  # parse arguments to dictionary\n",
    "        \n",
    "        print(args)\n",
    "        # read our CSV\n",
    "        data = pd.read_csv('./data/gossos.csv')\n",
    "        \n",
    "        if int(args['id']) in list(data['id_gos']):\n",
    "            return {\n",
    "                'message': f\"'{args['id']}' already exists.\"\n",
    "            }, 401\n",
    "        else:\n",
    "            # create new dataframe containing new values\n",
    "            new_data = pd.DataFrame({\n",
    "                'id_gos': int(args['id']),\n",
    "                'nom': args['nom'],\n",
    "                'edat': int(args['edat'])\n",
    "            }, index=[0])\n",
    "            # add the newly provided values\n",
    "            data = data.append(new_data, ignore_index=True)\n",
    "            # save back to CSV\n",
    "            data.to_csv('./data/gossos.csv', index=False)\n",
    "\n",
    "            return {'data': data.to_dict()}, 200  # return data with 200 OK\n",
    "    \n",
    "    \n",
    "    \n",
    "class Amos(Resource):\n",
    "    \n",
    "    def get(self):\n",
    "        data = pd.read_csv('./data/amos.csv')  # read CSV\n",
    "        data = data.to_dict()  # convert dataframe to dictionary\n",
    "        return {'data': data}, 200  # return data and 200 OK code\n",
    "    \n",
    "    def put(self):\n",
    "        \n",
    "        parser = reqparse.RequestParser()  # initialize\n",
    "        parser.add_argument('id', required=True, location='args')  # add args\n",
    "        parser.add_argument('id_gos', required=True, location='args')\n",
    "        args = parser.parse_args()  # parse arguments to dictionary\n",
    "\n",
    "        # read our CSV\n",
    "        data = pd.read_csv('./data/amos.csv')\n",
    "        \n",
    "        if int(args['id']) in list(data['id']):\n",
    "            \n",
    "            # evaluate strings of lists to lists\n",
    "            data['Gossos'] = data['Gossos'].apply(\n",
    "                lambda x: ast.literal_eval(x)\n",
    "            )\n",
    "            # select our owner\n",
    "            owner_data = data[data['id'] == int(args['id'])]\n",
    "\n",
    "            # update user's locations\n",
    "            owner_data['Gossos'] = owner_data['Gossos'].values[0] \\\n",
    "                .append(int(args['id_gos']))\n",
    "            \n",
    "            # save back to CSV\n",
    "            data.to_csv('./data/amos.csv', index=False)\n",
    "            # return data and 200 OK\n",
    "            return {'data': data.to_dict()}, 200\n",
    "\n",
    "        else:\n",
    "            # otherwise the userId does not exist\n",
    "            return {\n",
    "                'message': f\"'{args['id']}' user not found.\"\n",
    "            }, 404\n",
    " \n",
    " ## Add Resource\n",
    "\n",
    "api.add_resource(Gossos, '/gossos')  # '/gossos' és el nostre punt d'entrada per els Gossos\n",
    "api.add_resource(Amos, '/amos')  # '/amos' és el nostre punt d'entrada per els Amos\n",
    "    \n",
    "## Init App\n",
    "    \n",
    "if __name__ == '__main__':\n",
    "    app.run()  # run our Flask app\n",
    "    "
   ]
  },
  {
   "cell_type": "markdown",
   "id": "b8a352cc",
   "metadata": {
    "id": "b8a352cc"
   },
   "source": [
    "Ara visualitzem les dades:"
   ]
  },
  {
   "cell_type": "code",
   "execution_count": 13,
   "id": "e421719a",
   "metadata": {
    "id": "e421719a",
    "outputId": "eaac1389-6146-40e1-a26f-028411b8a862"
   },
   "outputs": [
    {
     "data": {
      "text/html": [
       "<div>\n",
       "<style scoped>\n",
       "    .dataframe tbody tr th:only-of-type {\n",
       "        vertical-align: middle;\n",
       "    }\n",
       "\n",
       "    .dataframe tbody tr th {\n",
       "        vertical-align: top;\n",
       "    }\n",
       "\n",
       "    .dataframe thead th {\n",
       "        text-align: right;\n",
       "    }\n",
       "</style>\n",
       "<table border=\"1\" class=\"dataframe\">\n",
       "  <thead>\n",
       "    <tr style=\"text-align: right;\">\n",
       "      <th></th>\n",
       "      <th>id</th>\n",
       "      <th>Nom</th>\n",
       "      <th>Gossos</th>\n",
       "    </tr>\n",
       "  </thead>\n",
       "  <tbody>\n",
       "    <tr>\n",
       "      <th>0</th>\n",
       "      <td>1</td>\n",
       "      <td>Aina</td>\n",
       "      <td>[101, 105]</td>\n",
       "    </tr>\n",
       "    <tr>\n",
       "      <th>1</th>\n",
       "      <td>2</td>\n",
       "      <td>Dani</td>\n",
       "      <td>[102]</td>\n",
       "    </tr>\n",
       "    <tr>\n",
       "      <th>2</th>\n",
       "      <td>3</td>\n",
       "      <td>Laia</td>\n",
       "      <td>[104]</td>\n",
       "    </tr>\n",
       "    <tr>\n",
       "      <th>3</th>\n",
       "      <td>4</td>\n",
       "      <td>Bego</td>\n",
       "      <td>[103, 107]</td>\n",
       "    </tr>\n",
       "  </tbody>\n",
       "</table>\n",
       "</div>"
      ],
      "text/plain": [
       "   id   Nom      Gossos\n",
       "0   1  Aina  [101, 105]\n",
       "1   2  Dani       [102]\n",
       "2   3  Laia       [104]\n",
       "3   4  Bego  [103, 107]"
      ]
     },
     "execution_count": 13,
     "metadata": {},
     "output_type": "execute_result"
    }
   ],
   "source": [
    "import pandas as pd\n",
    "\n",
    "df_amos = pd.read_csv('data/amos.csv')\n",
    "df_amos"
   ]
  },
  {
   "cell_type": "markdown",
   "id": "7e48a5e9",
   "metadata": {
    "id": "7e48a5e9"
   },
   "source": [
    "## 2.7 DELETE\n",
    "\n",
    "Imagina que la Milka és una gossa que estava perduda, i els seus amos originals l'han vingut a buscar. No ens interessa tenir al registre la Milka, ja que no és un gos al qual hagin adoptat o per adoptar. Farem un mètode per borrar els gossos de la base de dades:"
   ]
  },
  {
   "cell_type": "code",
   "execution_count": null,
   "id": "a844bf14",
   "metadata": {
    "id": "a844bf14",
    "outputId": "b758c4fe-4a12-4be6-eba2-c4d99ad49386"
   },
   "outputs": [
    {
     "name": "stdout",
     "output_type": "stream",
     "text": [
      " * Serving Flask app \"__main__\" (lazy loading)\n",
      " * Environment: production\n",
      "   WARNING: This is a development server. Do not use it in a production deployment.\n",
      "   Use a production WSGI server instead.\n",
      " * Debug mode: off\n"
     ]
    },
    {
     "name": "stderr",
     "output_type": "stream",
     "text": [
      "127.0.0.1 - - [22/Jun/2022 15:24:36] \"DELETE /gossos?id=106 HTTP/1.1\" 200 -\n"
     ]
    }
   ],
   "source": [
    "from flask import Flask\n",
    "from flask_restful import Resource, Api, reqparse\n",
    "import pandas as pd\n",
    "import ast\n",
    "\n",
    "\n",
    "## INIT THE APP\n",
    "\n",
    "app = Flask(__name__)\n",
    "api = Api(app)\n",
    "\n",
    "\n",
    "## DEFINE CLASS\n",
    "\n",
    "class Gossos(Resource):\n",
    "    \n",
    "    def get(self):\n",
    "        data = pd.read_csv('./data/gossos.csv')  # read CSV\n",
    "        data = data.to_dict()  # convert dataframe to dictionary\n",
    "        return {'data': data}, 200  # return data and 200 OK code\n",
    "    \n",
    "    def post(self):\n",
    "        parser = reqparse.RequestParser()  # initialize\n",
    "        \n",
    "        parser.add_argument('id', required=True)  # add args\n",
    "        parser.add_argument('nom', required=True)\n",
    "        parser.add_argument('edat', required=True)\n",
    "        \n",
    "        args = parser.parse_args()  # parse arguments to dictionary\n",
    "        \n",
    "        \n",
    "        # read our CSV\n",
    "        data = pd.read_csv('./data/gossos.csv')\n",
    "        \n",
    "        if int(args['id']) in list(data['id_gos']):\n",
    "            return {\n",
    "                'message': f\"'{args['id']}' already exists.\"\n",
    "            }, 401\n",
    "        else:\n",
    "            # create new dataframe containing new values\n",
    "            new_data = pd.DataFrame({\n",
    "                'id_gos': int(args['id']),\n",
    "                'nom': args['nom'],\n",
    "                'edat': int(args['edat'])\n",
    "            }, index=[0])\n",
    "            # add the newly provided values\n",
    "            data = data.append(new_data, ignore_index=True)\n",
    "            # save back to CSV\n",
    "            data.to_csv('./data/gossos.csv', index=False)\n",
    "\n",
    "            return {'data': data.to_dict()}, 200  # return data with 200 OK\n",
    "    \n",
    "    def delete(self):\n",
    "        parser = reqparse.RequestParser()  # initialize\n",
    "        parser.add_argument('id', required=True)  # add args\n",
    "        args = parser.parse_args()  # parse arguments to dictionary\n",
    "\n",
    "        # read our CSV\n",
    "        data = pd.read_csv('./data/gossos.csv')\n",
    "        \n",
    "        if int(args['id']) in list(data['id_gos']):\n",
    "            \n",
    "            data = data.drop(data[data.id_gos == int(args['id'])].index)\n",
    "            \n",
    "            # save back to CSV\n",
    "            data.to_csv('./data/gossos.csv', index=False)\n",
    "            # return data and 200 OK\n",
    "            return {'data': data.to_dict()}, 200\n",
    "\n",
    "        else:\n",
    "            # otherwise the userId does not exist\n",
    "            return {\n",
    "                'message': f\"'{args['id']}' dog not found.\"\n",
    "            }, 404\n",
    "    \n",
    "class Amos(Resource):\n",
    "    \n",
    "    def get(self):\n",
    "        data = pd.read_csv('./data/amos.csv')  # read CSV\n",
    "        data = data.to_dict()  # convert dataframe to dictionary\n",
    "        return {'data': data}, 200  # return data and 200 OK code\n",
    "    \n",
    "    def put(self):\n",
    "        \n",
    "        parser = reqparse.RequestParser()  # initialize\n",
    "        parser.add_argument('id', required=True)  # add args\n",
    "        parser.add_argument('id_gos', required=True)\n",
    "        args = parser.parse_args()  # parse arguments to dictionary\n",
    "\n",
    "        # read our CSV\n",
    "        data = pd.read_csv('./data/amos.csv')\n",
    "        \n",
    "        if int(args['id']) in list(data['id']):\n",
    "            \n",
    "            # evaluate strings of lists to lists\n",
    "            data['Gossos'] = data['Gossos'].apply(\n",
    "                lambda x: ast.literal_eval(x)\n",
    "            )\n",
    "            # select our owner\n",
    "            owner_data = data[data['id'] == int(args['id'])]\n",
    "\n",
    "            # update user's locations\n",
    "            owner_data['Gossos'] = owner_data['Gossos'].values[0] \\\n",
    "                .append(int(args['id_gos']))\n",
    "            \n",
    "            # save back to CSV\n",
    "            data.to_csv('./data/amos.csv', index=False)\n",
    "            # return data and 200 OK\n",
    "            return {'data': data.to_dict()}, 200\n",
    "\n",
    "        else:\n",
    "            # otherwise the userId does not exist\n",
    "            return {\n",
    "                'message': f\"'{args['id']}' user not found.\"\n",
    "            }, 404\n",
    " \n",
    " ## Add Resource\n",
    "\n",
    "api.add_resource(Gossos, '/gossos')  # '/gossos' és el nostre punt d'entrada per els Gossos\n",
    "api.add_resource(Amos, '/amos')  # '/amos' és el nostre punt d'entrada per els Amos\n",
    "    \n",
    "## Init App\n",
    "    \n",
    "if __name__ == '__main__':\n",
    "    app.run()  # run our Flask app\n",
    "    "
   ]
  },
  {
   "cell_type": "code",
   "execution_count": null,
   "id": "996b4355",
   "metadata": {
    "id": "996b4355",
    "outputId": "b428e4c7-4dc4-4537-92b9-7a994e49a409"
   },
   "outputs": [
    {
     "data": {
      "text/html": [
       "<div>\n",
       "<style scoped>\n",
       "    .dataframe tbody tr th:only-of-type {\n",
       "        vertical-align: middle;\n",
       "    }\n",
       "\n",
       "    .dataframe tbody tr th {\n",
       "        vertical-align: top;\n",
       "    }\n",
       "\n",
       "    .dataframe thead th {\n",
       "        text-align: right;\n",
       "    }\n",
       "</style>\n",
       "<table border=\"1\" class=\"dataframe\">\n",
       "  <thead>\n",
       "    <tr style=\"text-align: right;\">\n",
       "      <th></th>\n",
       "      <th>id_gos</th>\n",
       "      <th>nom</th>\n",
       "      <th>edat</th>\n",
       "    </tr>\n",
       "  </thead>\n",
       "  <tbody>\n",
       "    <tr>\n",
       "      <th>0</th>\n",
       "      <td>101</td>\n",
       "      <td>Pitufina</td>\n",
       "      <td>8</td>\n",
       "    </tr>\n",
       "    <tr>\n",
       "      <th>1</th>\n",
       "      <td>102</td>\n",
       "      <td>Rex</td>\n",
       "      <td>10</td>\n",
       "    </tr>\n",
       "    <tr>\n",
       "      <th>2</th>\n",
       "      <td>103</td>\n",
       "      <td>Lolo</td>\n",
       "      <td>5</td>\n",
       "    </tr>\n",
       "    <tr>\n",
       "      <th>3</th>\n",
       "      <td>104</td>\n",
       "      <td>Coco</td>\n",
       "      <td>2</td>\n",
       "    </tr>\n",
       "    <tr>\n",
       "      <th>4</th>\n",
       "      <td>105</td>\n",
       "      <td>Nina</td>\n",
       "      <td>12</td>\n",
       "    </tr>\n",
       "    <tr>\n",
       "      <th>5</th>\n",
       "      <td>107</td>\n",
       "      <td>Sol</td>\n",
       "      <td>0</td>\n",
       "    </tr>\n",
       "    <tr>\n",
       "      <th>6</th>\n",
       "      <td>108</td>\n",
       "      <td>Lluna</td>\n",
       "      <td>4</td>\n",
       "    </tr>\n",
       "  </tbody>\n",
       "</table>\n",
       "</div>"
      ],
      "text/plain": [
       "   id_gos       nom  edat\n",
       "0     101  Pitufina     8\n",
       "1     102       Rex    10\n",
       "2     103      Lolo     5\n",
       "3     104      Coco     2\n",
       "4     105      Nina    12\n",
       "5     107       Sol     0\n",
       "6     108     Lluna     4"
      ]
     },
     "execution_count": 17,
     "metadata": {},
     "output_type": "execute_result"
    }
   ],
   "source": [
    "import pandas as pd\n",
    "\n",
    "df_gossos = pd.read_csv('data/gossos.csv')\n",
    "df_gossos"
   ]
  },
  {
   "cell_type": "markdown",
   "id": "700b7c80",
   "metadata": {
    "id": "700b7c80"
   },
   "source": [
    "### I ja està!\n",
    "\n",
    "A partir d'aquí, pots aplicar moltes coses més a la teva api, així com pots personalitzar els mètodes segons els arguments donats. \n",
    "\n",
    "També podem crear diferents endpoints per les nostres classes així com crear endpoints dinàmics!!\n",
    "\n",
    "<code> api.add_resource(User, '/user/', '/user/\\<userid>') <code>\n",
    "    \n",
    "D'aquesta forma, podem fer un:\n",
    "\n",
    "<code> def get(self, userid): <code>"
   ]
  },
  {
   "cell_type": "markdown",
   "id": "c4b5cf94",
   "metadata": {
    "id": "c4b5cf94"
   },
   "source": [
    "<br><br><br>\n",
    "# 3. Fun APIs\n",
    "\n",
    "Ara que hem vist tot això, anem a veure alguna API interessant!"
   ]
  },
  {
   "cell_type": "code",
   "execution_count": 15,
   "id": "6e77de55",
   "metadata": {
    "id": "6e77de55",
    "outputId": "a28378eb-df73-43dd-a293-2c99ffb909d6"
   },
   "outputs": [
    {
     "data": {
      "image/png": "[encoded data removed]",
      "text/plain": [
       "<PIL.Image.Image image mode=RGB size=180x320 at 0x7F77853C8D60>"
      ]
     },
     "metadata": {},
     "output_type": "display_data"
    }
   ],
   "source": [
    "import requests \n",
    "import os\n",
    "from PIL import Image\n",
    "import io\n",
    "\n",
    "from IPython.display import display\n",
    "\n",
    "api_url = \"https://cataas.com/cat\" \n",
    "filename = \"cat.jpg\"\n",
    "\n",
    "response = requests.get(api_url) # Fem un request a la api amb un get\n",
    " #Obtenim el JSON de la resposta!\n",
    "    \n",
    "in_memory_file = io.BytesIO(response.content)\n",
    "im = Image.open(in_memory_file)\n",
    "\n",
    "\n",
    "scale = 0.3\n",
    "display(im.resize(( int(im.width * scale), int(im.height * scale))))"
   ]
  },
  {
   "cell_type": "code",
   "execution_count": 16,
   "id": "6d5bff6f",
   "metadata": {
    "id": "6d5bff6f",
    "outputId": "f24c8941-841c-4441-9242-47afad25d394"
   },
   "outputs": [
    {
     "data": {
      "image/png": "[encoded data removed]",
      "text/plain": [
       "<PIL.Image.Image image mode=P size=140x96 at 0x7F77853AFC40>"
      ]
     },
     "metadata": {},
     "output_type": "display_data"
    }
   ],
   "source": [
    "import requests \n",
    "import os\n",
    "from PIL import Image\n",
    "import io\n",
    "\n",
    "from IPython.display import display\n",
    "\n",
    "api_url = \"https://cataas.com/cat/cute/says/Chau\" \n",
    "filename = \"cat.jpg\"\n",
    "\n",
    "response = requests.get(api_url) # Fem un request a la api amb un get\n",
    " #Obtenim el JSON de la resposta!\n",
    "    \n",
    "in_memory_file = io.BytesIO(response.content)\n",
    "im = Image.open(in_memory_file)\n",
    "\n",
    "\n",
    "scale = 0.5\n",
    "display(im.resize(( int(im.width * scale), int(im.height * scale))))"
   ]
  },
  {
   "cell_type": "code",
   "execution_count": 17,
   "id": "4a073f7b",
   "metadata": {
    "id": "4a073f7b",
    "outputId": "f79c2545-bf0d-43c9-cfac-73e4b9ac49d6"
   },
   "outputs": [
    {
     "data": {
      "image/png": "[encoded data removed]",
      "text/plain": [
       "<PIL.Image.Image image mode=RGBA size=300x169 at 0x7F7785573040>"
      ]
     },
     "metadata": {},
     "output_type": "display_data"
    }
   ],
   "source": [
    "import requests \n",
    "import os\n",
    "from PIL import Image\n",
    "import io\n",
    "\n",
    "from IPython.display import display\n",
    "\n",
    "api_url = \"https://cataas.com/cat/sad/says/Ambeses la vida no es como quieremos\" \n",
    "filename = \"cat.jpg\"\n",
    "\n",
    "response = requests.get(api_url) # Fem un request a la api amb un get\n",
    " #Obtenim el JSON de la resposta!\n",
    "    \n",
    "in_memory_file = io.BytesIO(response.content)\n",
    "im = Image.open(in_memory_file)\n",
    "\n",
    "\n",
    "scale = 0.5\n",
    "display(im.resize(( int(im.width * scale), int(im.height * scale))))"
   ]
  }
 ],
 "metadata": {
  "colab": {
   "name": "API Rest + Python.ipynb",
   "provenance": []
  },
  "kernelspec": {
   "display_name": "Python 3 (ipykernel)",
   "language": "python",
   "name": "python3"
  },
  "language_info": {
   "codemirror_mode": {
    "name": "ipython",
    "version": 3
   },
   "file_extension": ".py",
   "mimetype": "text/x-python",
   "name": "python",
   "nbconvert_exporter": "python",
   "pygments_lexer": "ipython3",
   "version": "3.10.6"
  }
 },
 "nbformat": 4,
 "nbformat_minor": 5
}
